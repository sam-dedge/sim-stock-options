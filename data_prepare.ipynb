{
 "cells": [
  {
   "cell_type": "code",
   "execution_count": null,
   "metadata": {},
   "outputs": [],
   "source": [
    "import numpy as np\n",
    "import pandas as pd\n",
    "from sklearn.model_selection import train_test_split"
   ]
  },
  {
   "cell_type": "code",
   "execution_count": null,
   "metadata": {},
   "outputs": [],
   "source": [
    "month_eod_df = pd.read_csv('data_options/spx_eod_2022/spx_eod_202210.csv')\n",
    "#month_eod_df.reset_index()\n",
    "month_eod_df.where((month_eod_df['[STRIKE_DISTANCE]'] < (month_eod_df['[STRIKE]']*0.35)), inplace=True)\n",
    "month_eod_df.dropna(inplace=True)\n",
    "month_eod_df[['[QUOTE_DATE]', '[EXPIRE_DATE]', '[UNDERLYING_LAST]', '[DTE]', '[C_DELTA]', '[C_LAST]', '[C_BID]', '[C_ASK]', '[STRIKE_DISTANCE]', '[STRIKE]', '[C_IV]']]"
   ]
  },
  {
   "cell_type": "code",
   "execution_count": null,
   "metadata": {},
   "outputs": [],
   "source": [
    "month_eod_df[520:540][['[QUOTE_DATE]', '[EXPIRE_DATE]', '[UNDERLYING_LAST]', '[DTE]', '[C_DELTA]', '[C_LAST]', '[C_BID]', '[C_ASK]', '[STRIKE_DISTANCE]', '[STRIKE]', '[C_IV]']]"
   ]
  },
  {
   "cell_type": "code",
   "execution_count": null,
   "metadata": {},
   "outputs": [],
   "source": [
    "month_eod_df.shape"
   ]
  },
  {
   "cell_type": "code",
   "execution_count": null,
   "metadata": {},
   "outputs": [],
   "source": [
    "month_eod_df.columns"
   ]
  },
  {
   "cell_type": "code",
   "execution_count": null,
   "metadata": {},
   "outputs": [],
   "source": [
    "cnt = 0\n",
    "for index, row in month_eod_df.iterrows():\n",
    "    if cnt > 5:\n",
    "        break\n",
    "\n",
    "    print(row)\n",
    "    cnt += 1"
   ]
  },
  {
   "cell_type": "code",
   "execution_count": null,
   "metadata": {},
   "outputs": [],
   "source": [
    "calls_df = month_eod_df.filter(items=['[QUOTE_UNIXTIME]', '[UNDERLYING_LAST]', '[STRIKE]', '[STRIKE_DISTANCE]', '[STRIKE_DISTANCE_PCT]', '[EXPIRE_UNIX]', '[DTE]', '[C_DELTA]', '[C_GAMMA]', '[C_VEGA]', '[C_THETA]', '[C_RHO]', '[C_IV]', '[C_VOLUME]', '[C_LAST]', '[C_SIZE]', '[C_BID]', '[C_ASK]'])\n",
    "puts_df = month_eod_df.filter(items=['[QUOTE_UNIXTIME]', '[UNDERLYING_LAST]', '[STRIKE]', '[STRIKE_DISTANCE]', '[STRIKE_DISTANCE_PCT]', '[EXPIRE_UNIX]', '[DTE]', '[P_DELTA]', '[P_GAMMA]', '[P_VEGA]', '[P_THETA]', '[P_RHO]', '[P_IV]', '[P_VOLUME]', '[P_LAST]', '[P_SIZE]', '[P_BID]', '[P_ASK]'])"
   ]
  },
  {
   "cell_type": "code",
   "execution_count": null,
   "metadata": {},
   "outputs": [],
   "source": [
    "calls_df[10:20]"
   ]
  },
  {
   "cell_type": "code",
   "execution_count": null,
   "metadata": {},
   "outputs": [],
   "source": [
    "calls_df.shape"
   ]
  },
  {
   "cell_type": "code",
   "execution_count": null,
   "metadata": {},
   "outputs": [],
   "source": [
    "calls_df['[C_VOLUME]'].notna().value_counts()[True]"
   ]
  },
  {
   "cell_type": "code",
   "execution_count": null,
   "metadata": {},
   "outputs": [],
   "source": [
    "pd.isna(calls_df['[C_VOLUME]'])"
   ]
  },
  {
   "cell_type": "code",
   "execution_count": null,
   "metadata": {},
   "outputs": [],
   "source": [
    "## Replace Empty rows with NaN values.\n",
    "\n",
    "calls_df['[C_IV]'].replace({' ':np.nan},inplace=True)\n",
    "calls_df['[C_VOLUME]'].replace({' ':np.nan},inplace=True)\n",
    "calls_df['[C_LAST]'].replace({' ':np.nan},inplace=True)\n",
    "calls_df['[C_SIZE]'].replace({' ':np.nan},inplace=True)\n",
    "calls_df['[C_BID]'].replace({' ':np.nan},inplace=True)\n",
    "calls_df['[C_ASK]'].replace({' ':np.nan},inplace=True)"
   ]
  },
  {
   "cell_type": "code",
   "execution_count": null,
   "metadata": {},
   "outputs": [],
   "source": [
    "## Replace Empty rows with NaN values.\n",
    "\n",
    "puts_df['[P_IV]'].replace({' ':np.nan},inplace=True)\n",
    "puts_df['[P_VOLUME]'].replace({' ':np.nan},inplace=True)\n",
    "puts_df['[P_LAST]'].replace({' ':np.nan},inplace=True)\n",
    "puts_df['[P_SIZE]'].replace({' ':np.nan},inplace=True)\n",
    "puts_df['[P_BID]'].replace({' ':np.nan},inplace=True)\n",
    "puts_df['[P_ASK]'].replace({' ':np.nan},inplace=True)"
   ]
  },
  {
   "cell_type": "code",
   "execution_count": null,
   "metadata": {},
   "outputs": [],
   "source": [
    "62740 + 632"
   ]
  },
  {
   "cell_type": "code",
   "execution_count": null,
   "metadata": {},
   "outputs": [],
   "source": [
    "# Rename Columns\n",
    "rename_dict = {'[QUOTE_UNIXTIME]':'QUOTE_UNIXTIME', '[UNDERLYING_LAST]':'UNDERLYING_LAST', '[STRIKE]':'STRIKE', '[STRIKE_DISTANCE]':'STRIKE_DISTANCE', '[STRIKE_DISTANCE_PCT]':'STRIKE_DISTANCE_PCT', '[EXPIRE_UNIX]':'EXPIRE_UNIX', '[DTE]':'DTE', '[C_DELTA]':'DELTA', '[C_GAMMA]':'GAMMA', '[C_VEGA]':'VEGA', '[C_THETA]':'THETA', '[C_RHO]':'RHO', '[C_IV]':'IV', '[C_VOLUME]':'VOLUME', '[C_LAST]':'LAST', '[C_SIZE]':'SIZE', '[C_BID]':'BID', '[C_ASK]':'ASK',}\n",
    "rename_dict2 = {'[QUOTE_UNIXTIME]':'QUOTE_UNIXTIME', '[UNDERLYING_LAST]':'UNDERLYING_LAST', '[STRIKE]':'STRIKE', '[STRIKE_DISTANCE]':'STRIKE_DISTANCE', '[STRIKE_DISTANCE_PCT]':'STRIKE_DISTANCE_PCT', '[EXPIRE_UNIX]':'EXPIRE_UNIX', '[DTE]':'DTE', '[P_DELTA]':'DELTA', '[P_GAMMA]':'GAMMA', '[P_VEGA]':'VEGA', '[P_THETA]':'THETA', '[P_RHO]':'RHO', '[P_IV]':'IV', '[P_VOLUME]':'VOLUME', '[P_LAST]':'LAST', '[P_SIZE]':'SIZE', '[P_BID]':'BID', '[P_ASK]':'ASK',}\n",
    "calls_df = calls_df.rename(columns=rename_dict)\n",
    "puts_df = puts_df.rename(columns=rename_dict2)\n",
    "print(puts_df[:5])"
   ]
  },
  {
   "attachments": {},
   "cell_type": "markdown",
   "metadata": {},
   "source": [
    "##### Remove Expired worthless contracts"
   ]
  },
  {
   "cell_type": "code",
   "execution_count": null,
   "metadata": {},
   "outputs": [],
   "source": [
    "# Remove Expired Worhless Calls\n",
    "calls_df = calls_df[(calls_df['DTE'] != 0) | (calls_df['STRIKE'] < calls_df['UNDERLYING_LAST'])]\n",
    "# See Rmoving contracts \n",
    "#calls_df[(calls_df['DTE'] == 0) & (calls_df['STRIKE'] > calls_df['UNDERLYING_LAST'])]\n",
    "\n",
    "# Remove Expired Worhless Puts\n",
    "puts_df = puts_df[(puts_df['DTE'] != 0) | (puts_df['STRIKE'] > puts_df['UNDERLYING_LAST'])]\n",
    "# See Rmoving contracts \n",
    "#puts_df[(puts_df['DTE'] == 0) & (puts_df['STRIKE'] < puts_df['UNDERLYING_LAST'])]"
   ]
  },
  {
   "cell_type": "code",
   "execution_count": null,
   "metadata": {},
   "outputs": [],
   "source": []
  },
  {
   "cell_type": "code",
   "execution_count": null,
   "metadata": {},
   "outputs": [],
   "source": [
    "calls_df.dtypes"
   ]
  },
  {
   "cell_type": "code",
   "execution_count": null,
   "metadata": {},
   "outputs": [],
   "source": [
    "# IV BID etc. Attribute is has NaNs.\n",
    "print(calls_df['IV'].notna().value_counts()[True])\n",
    "print(puts_df['BID'].notna().value_counts()[True])\n",
    "\n",
    "# Size Attribute is String. > No NaNs\n",
    "print(calls_df['SIZE'].notna().value_counts()[True])\n",
    "print(puts_df['SIZE'].notna().value_counts()[True])"
   ]
  },
  {
   "cell_type": "code",
   "execution_count": null,
   "metadata": {},
   "outputs": [],
   "source": [
    "# Filling NaN values with 0\n",
    "calls_df = calls_df.fillna(0)\n",
    "puts_df = puts_df.fillna(0)"
   ]
  },
  {
   "cell_type": "code",
   "execution_count": null,
   "metadata": {},
   "outputs": [],
   "source": [
    "calls_df[10:20]"
   ]
  },
  {
   "cell_type": "code",
   "execution_count": null,
   "metadata": {},
   "outputs": [],
   "source": [
    "# Add Type for Calls and Puts for classification purposes.\n",
    "# Calls: 1 & Puts: 0\n",
    "calls_df['TYPE'] = 'CALL'\n",
    "puts_df['TYPE'] = 'PUT'"
   ]
  },
  {
   "cell_type": "code",
   "execution_count": null,
   "metadata": {},
   "outputs": [],
   "source": [
    "puts_df.shape"
   ]
  },
  {
   "cell_type": "code",
   "execution_count": null,
   "metadata": {},
   "outputs": [],
   "source": []
  },
  {
   "attachments": {},
   "cell_type": "markdown",
   "metadata": {},
   "source": [
    "#### Alternative method. Just Calls and no Puts with no Price(Calculate using BSM) and y=IV\n",
    "##### -- Calculate Price from resulting IV."
   ]
  },
  {
   "cell_type": "code",
   "execution_count": null,
   "metadata": {},
   "outputs": [],
   "source": [
    "#calls_df = calls_df.sort_values(by=['QUOTE_UNIXTIME', 'DTE', 'STRIKE']).reset_index()\n",
    "calls_df[190:195]\n",
    "#calls_df.dtypes\n"
   ]
  },
  {
   "cell_type": "code",
   "execution_count": null,
   "metadata": {},
   "outputs": [],
   "source": [
    "calls_df.dtypes"
   ]
  },
  {
   "attachments": {},
   "cell_type": "markdown",
   "metadata": {},
   "source": [
    "#### Transformations to CALLS Dataframe"
   ]
  },
  {
   "cell_type": "code",
   "execution_count": null,
   "metadata": {},
   "outputs": [],
   "source": [
    "# Splitting SIZE attribute and converting to int.\n",
    "calls_df[['SIZE1', 'SIZE2']] = calls_df['SIZE'].str.split(' x ', expand=True)\n",
    "calls_df.SIZE1 = calls_df.SIZE1.astype(np.int64)\n",
    "calls_df.SIZE2 = calls_df.SIZE2.astype(np.int64)\n",
    "\n",
    "# Convert Strike dtype to int. Otherwise float output is received for strike which is invalid.\n",
    "#calls_df.STRIKE = calls_df.STRIKE.astype(np.int64)\n",
    "\n",
    "# Drop redundant colunmns. DTE can serve the same purpose \n",
    "calls_df = calls_df.drop('QUOTE_UNIXTIME', axis=1)\n",
    "calls_df = calls_df.drop('EXPIRE_UNIX', axis=1)\n",
    "\n",
    "# Drop Strike Distance because Strike is there.\n",
    "# Convert Strike to integer.\n",
    "calls_df = calls_df.drop('STRIKE_DISTANCE', axis=1)\n",
    "calls_df['STRIKE'] = calls_df['STRIKE'].astype(np.int64)\n",
    "\n",
    "# Drop Size because Size has been split into 2 columns above.\n",
    "calls_df = calls_df.drop('SIZE', axis=1)\n",
    "\n",
    "# Only calls used so TYPE is redundant.\n",
    "#calls_df = calls_df.drop('TYPE', axis=1)\n",
    "\n",
    "# Converting String formatting of ASK, BID, LAST, IV, VOLUME\n",
    "calls_df['ASK'] = calls_df['ASK'].astype(np.float64)\n",
    "calls_df['BID'] = calls_df['BID'].astype(np.float64)\n",
    "calls_df['LAST'] = calls_df['LAST'].astype(np.float64)\n",
    "calls_df['IV'] = calls_df['IV'].astype(np.float64)\n",
    "\n",
    "# Converting String formatting VOLUME to float and the int.\n",
    "calls_df['VOLUME'] = calls_df['VOLUME'].astype(np.float64)\n",
    "calls_df['VOLUME'] = calls_df['VOLUME'].astype(np.int64)\n",
    "\n",
    "# Days to Expiry is an integer value\n",
    "calls_df['DTE'] = calls_df['DTE'].astype(np.int64)\n"
   ]
  },
  {
   "cell_type": "code",
   "execution_count": null,
   "metadata": {},
   "outputs": [],
   "source": []
  },
  {
   "cell_type": "code",
   "execution_count": null,
   "metadata": {},
   "outputs": [],
   "source": [
    "\n",
    "# Moving Type column to the end\n",
    "cols = ['UNDERLYING_LAST', 'STRIKE', 'STRIKE_DISTANCE_PCT',\n",
    "       'DTE', 'DELTA', 'GAMMA', 'VEGA', 'THETA', 'RHO', 'VOLUME',\n",
    "       'SIZE1', 'SIZE2', 'BID', 'ASK', 'IV', 'LAST']\n",
    "calls_df = calls_df[cols]"
   ]
  },
  {
   "cell_type": "code",
   "execution_count": null,
   "metadata": {},
   "outputs": [],
   "source": [
    "calls_df[100:102]"
   ]
  },
  {
   "attachments": {},
   "cell_type": "markdown",
   "metadata": {},
   "source": []
  },
  {
   "attachments": {},
   "cell_type": "markdown",
   "metadata": {},
   "source": [
    "##### Convert to X and y for training. Save IV column as iv for later calculation and evaluation."
   ]
  },
  {
   "cell_type": "code",
   "execution_count": null,
   "metadata": {},
   "outputs": [],
   "source": [
    "X_num = calls_df.iloc[:,:-1]\n",
    "y = calls_df.iloc[:,-1:]"
   ]
  },
  {
   "cell_type": "code",
   "execution_count": null,
   "metadata": {},
   "outputs": [],
   "source": [
    "X_num[100:102]"
   ]
  },
  {
   "cell_type": "code",
   "execution_count": null,
   "metadata": {},
   "outputs": [],
   "source": [
    "X_num_train, X_num_test, y_train, y_test = train_test_split(X_num, y, test_size=0.2, random_state=1)\n",
    "X_num_train, X_num_val, y_train, y_val = train_test_split(X_num_train, y_train, test_size=0.25, random_state=1) # 0.25 x 0.8 = 0.2"
   ]
  },
  {
   "cell_type": "code",
   "execution_count": null,
   "metadata": {},
   "outputs": [],
   "source": [
    "X_num_train[:2]\n",
    "#iv_train[:2]"
   ]
  },
  {
   "cell_type": "code",
   "execution_count": null,
   "metadata": {},
   "outputs": [],
   "source": [
    "iv_train = X_num_train.iloc[:, -1:]\n",
    "iv_test = X_num_test.iloc[:, -1:]\n",
    "iv_val = X_num_val.iloc[:, -1:]\n",
    "\n",
    "X_num_train = X_num_train.iloc[:, :-1]\n",
    "X_num_test = X_num_test.iloc[:, :-1]\n",
    "X_num_val = X_num_val.iloc[:, :-1]"
   ]
  },
  {
   "cell_type": "code",
   "execution_count": null,
   "metadata": {},
   "outputs": [],
   "source": [
    "type(X_num_train)"
   ]
  },
  {
   "cell_type": "code",
   "execution_count": null,
   "metadata": {},
   "outputs": [],
   "source": [
    "X_num_train.shape"
   ]
  },
  {
   "cell_type": "code",
   "execution_count": null,
   "metadata": {},
   "outputs": [],
   "source": [
    "# Coverting Dataframes to .npy for better storage.\n",
    "X_num_train = X_num_train.to_numpy()\n",
    "X_num_test = X_num_test.to_numpy()\n",
    "X_num_val = X_num_val.to_numpy()\n",
    "\n",
    "y_train = y_train.to_numpy()\n",
    "y_test = y_test.to_numpy()\n",
    "y_val = y_val.to_numpy()"
   ]
  },
  {
   "cell_type": "code",
   "execution_count": null,
   "metadata": {},
   "outputs": [],
   "source": [
    "# Save the Numpy arrays for training.\n",
    "\n",
    "with open('tab-ddpm/tab-ddpm-main/data/options/X_num_train.npy', 'wb') as f:\n",
    "    np.save(f, X_num_train)\n",
    "with open('tab-ddpm/tab-ddpm-main/data/options/X_num_test.npy', 'wb') as f:\n",
    "    np.save(f, X_num_test)\n",
    "with open('tab-ddpm/tab-ddpm-main/data/options/X_num_val.npy', 'wb') as f:\n",
    "    np.save(f, X_num_val)\n",
    "\n",
    "with open('tab-ddpm/tab-ddpm-main/data/options/y_train.npy', 'wb') as f:\n",
    "    np.save(f, y_train)\n",
    "with open('tab-ddpm/tab-ddpm-main/data/options/y_test.npy', 'wb') as f:\n",
    "    np.save(f, y_test)\n",
    "with open('tab-ddpm/tab-ddpm-main/data/options/y_val.npy', 'wb') as f:\n",
    "    np.save(f, y_val)"
   ]
  },
  {
   "cell_type": "code",
   "execution_count": null,
   "metadata": {},
   "outputs": [],
   "source": []
  },
  {
   "cell_type": "code",
   "execution_count": null,
   "metadata": {},
   "outputs": [],
   "source": []
  },
  {
   "attachments": {},
   "cell_type": "markdown",
   "metadata": {},
   "source": [
    "##### Check Synthetic Data for only Calls [/Puts]"
   ]
  },
  {
   "cell_type": "code",
   "execution_count": null,
   "metadata": {},
   "outputs": [],
   "source": [
    "synthe_X_num = np.load('tab-ddpm/tab-ddpm-main/exp/options/ddpm_cb_best/X_num_train.npy')\n",
    "synthe_y = np.load('tab-ddpm/tab-ddpm-main/exp/options/ddpm_cb_best/y_train.npy')"
   ]
  },
  {
   "cell_type": "code",
   "execution_count": null,
   "metadata": {},
   "outputs": [],
   "source": [
    "synthe_X_num.shape"
   ]
  },
  {
   "cell_type": "code",
   "execution_count": null,
   "metadata": {},
   "outputs": [],
   "source": [
    "cols = ['[UNDERLYING_LAST]', '[STRIKE]', '[STRIKE_DISTANCE_PCT]', '[DTE]', '[C_DELTA]',\n",
    "       '[C_GAMMA]', '[C_VEGA]', '[C_THETA]', '[C_RHO]', '[C_VOLUME]', '[C_SIZE1]', '[C_SIZE2]',\n",
    "       '[C_BID]', '[C_ASK]']\n",
    "len(cols)"
   ]
  },
  {
   "cell_type": "code",
   "execution_count": null,
   "metadata": {},
   "outputs": [],
   "source": [
    "synthe_X_df = pd.DataFrame(synthe_X_num, columns = cols)"
   ]
  },
  {
   "cell_type": "code",
   "execution_count": null,
   "metadata": {},
   "outputs": [],
   "source": [
    "synthe_X_df.shape"
   ]
  },
  {
   "cell_type": "code",
   "execution_count": null,
   "metadata": {},
   "outputs": [],
   "source": [
    "synthe_X_df[20:25]"
   ]
  },
  {
   "cell_type": "code",
   "execution_count": null,
   "metadata": {},
   "outputs": [],
   "source": [
    "synthe_X_df.sort_values(by=['[DTE]', '[STRIKE]'])[3155:3163]"
   ]
  },
  {
   "attachments": {},
   "cell_type": "markdown",
   "metadata": {},
   "source": []
  },
  {
   "attachments": {},
   "cell_type": "markdown",
   "metadata": {},
   "source": []
  },
  {
   "attachments": {},
   "cell_type": "markdown",
   "metadata": {},
   "source": []
  },
  {
   "attachments": {},
   "cell_type": "markdown",
   "metadata": {},
   "source": []
  },
  {
   "attachments": {},
   "cell_type": "markdown",
   "metadata": {},
   "source": [
    "##### Calls and Puts dataframe together."
   ]
  },
  {
   "cell_type": "code",
   "execution_count": null,
   "metadata": {},
   "outputs": [],
   "source": [
    "# Join Calls & Puts dataframes into a sinlgle dataframe\n",
    "c_split_p_eod = pd.concat([calls_df, puts_df]).sort_values(by=['QUOTE_UNIXTIME', 'DTE', 'STRIKE']).reset_index()"
   ]
  },
  {
   "cell_type": "code",
   "execution_count": null,
   "metadata": {},
   "outputs": [],
   "source": [
    "c_split_p_eod[190:210]"
   ]
  },
  {
   "cell_type": "code",
   "execution_count": null,
   "metadata": {},
   "outputs": [],
   "source": [
    "# Splitting SIZE attribute and converting to int.\n",
    "c_split_p_eod[['SIZE1', 'SIZE2']] = c_split_p_eod['SIZE'].str.split(' x ', expand=True)\n",
    "c_split_p_eod.SIZE1 = c_split_p_eod.SIZE1.astype(np.int64)\n",
    "c_split_p_eod.SIZE2 = c_split_p_eod.SIZE2.astype(np.int64)\n"
   ]
  },
  {
   "cell_type": "code",
   "execution_count": null,
   "metadata": {},
   "outputs": [],
   "source": [
    "# Checking value in SIZE1 is int\n",
    "c_split_p_eod['SIZE1'][209]"
   ]
  },
  {
   "cell_type": "code",
   "execution_count": null,
   "metadata": {},
   "outputs": [],
   "source": [
    "# Convert Strike dtype to int. Otherwise float output is received for strike which is invalid.\n",
    "c_split_p_eod.STRIKE = c_split_p_eod.STRIKE.astype(np.int64)\n",
    "c_split_p_eod.dtypes"
   ]
  },
  {
   "cell_type": "code",
   "execution_count": null,
   "metadata": {},
   "outputs": [],
   "source": [
    "# Drop redundant colunmns. DTE can serve the same purpose \n",
    "c_split_p_eod = c_split_p_eod.drop('QUOTE_UNIXTIME', axis=1)\n",
    "c_split_p_eod = c_split_p_eod.drop('EXPIRE_UNIX', axis=1)\n",
    "\n",
    "# Drop Strike because Strike Distance is there.\n",
    "c_split_p_eod = c_split_p_eod.drop('STRIKE_DISTANCE', axis=1)\n",
    "\n",
    "# Drop Size because Size has been split into 2 columns above.\n",
    "c_split_p_eod = c_split_p_eod.drop('SIZE', axis=1)"
   ]
  },
  {
   "cell_type": "code",
   "execution_count": null,
   "metadata": {},
   "outputs": [],
   "source": [
    "c_split_p_eod.dtypes\n",
    "#c_split_p_eod.shape"
   ]
  },
  {
   "cell_type": "code",
   "execution_count": null,
   "metadata": {},
   "outputs": [],
   "source": [
    "# Converting String formatting of ASK, BID, LAST, IV, VOLUME\n",
    "c_split_p_eod['ASK'] = c_split_p_eod['ASK'].astype(np.float64)\n",
    "c_split_p_eod['BID'] = c_split_p_eod['BID'].astype(np.float64)\n",
    "c_split_p_eod['LAST'] = c_split_p_eod['LAST'].astype(np.float64)\n",
    "c_split_p_eod['IV'] = c_split_p_eod['IV'].astype(np.float64)\n",
    "\n",
    "# Converting String formatting VOLUME to float and the int.\n",
    "c_split_p_eod['VOLUME'] = c_split_p_eod['VOLUME'].astype(np.float64)\n",
    "c_split_p_eod['VOLUME'] = c_split_p_eod['VOLUME'].astype(np.int64)\n",
    "\n",
    "# Days to Expiry is an integer value\n",
    "c_split_p_eod['DTE'] = c_split_p_eod['DTE'].astype(np.int64)\n",
    "#_ = c_split_p_eod['ASK'].map(type) == float\n",
    "#_.value_counts()"
   ]
  },
  {
   "attachments": {},
   "cell_type": "markdown",
   "metadata": {},
   "source": [
    "##### Tuning attempt.\n",
    "###### Strike change to int for consistency of what strikes are."
   ]
  },
  {
   "cell_type": "code",
   "execution_count": null,
   "metadata": {},
   "outputs": [],
   "source": [
    "#c_split_p_eod['VOLUME'] = c_split_p_eod['VOLUME'].astype(int)\n",
    "#_ = c_split_p_eod['DTE'].map(type) == int\n",
    "#_.value_counts()"
   ]
  },
  {
   "cell_type": "code",
   "execution_count": null,
   "metadata": {},
   "outputs": [],
   "source": [
    "c_split_p_eod.shape\n",
    "#c_split_p_eod[:5]"
   ]
  },
  {
   "cell_type": "code",
   "execution_count": null,
   "metadata": {},
   "outputs": [],
   "source": [
    "# Moving Type column to the end\n",
    "cols = ['UNDERLYING_LAST', 'STRIKE', 'STRIKE_DISTANCE_PCT',\n",
    "       'DTE', 'DELTA', 'GAMMA', 'VEGA', 'THETA', 'RHO', 'VOLUME',\n",
    "       'SIZE1', 'SIZE2', 'BID', 'ASK', 'TYPE', 'LAST', 'IV']\n",
    "c_split_p_eod = c_split_p_eod[cols]"
   ]
  },
  {
   "cell_type": "code",
   "execution_count": null,
   "metadata": {},
   "outputs": [],
   "source": []
  },
  {
   "attachments": {},
   "cell_type": "markdown",
   "metadata": {},
   "source": [
    "#### Splitting Dataframe into X and y for training purposes"
   ]
  },
  {
   "cell_type": "code",
   "execution_count": null,
   "metadata": {},
   "outputs": [],
   "source": [
    "X_num = c_split_p_eod.iloc[:,:-1]\n",
    "y = c_split_p_eod.iloc[:,-1:]"
   ]
  },
  {
   "cell_type": "code",
   "execution_count": null,
   "metadata": {},
   "outputs": [],
   "source": [
    "X_num.shape"
   ]
  },
  {
   "cell_type": "code",
   "execution_count": null,
   "metadata": {},
   "outputs": [],
   "source": [
    "y[:5]\n",
    "y.shape"
   ]
  },
  {
   "cell_type": "code",
   "execution_count": null,
   "metadata": {},
   "outputs": [],
   "source": [
    "X_num_train, X_num_test, y_train, y_test = train_test_split(X_num, y, test_size=0.2, random_state=1)\n",
    "X_num_train, X_num_val, y_train, y_val = train_test_split(X_num_train, y_train, test_size=0.25, random_state=1) # 0.25 x 0.8 = 0.2"
   ]
  },
  {
   "cell_type": "code",
   "execution_count": null,
   "metadata": {},
   "outputs": [],
   "source": [
    "X_num_test[:5]"
   ]
  },
  {
   "cell_type": "code",
   "execution_count": null,
   "metadata": {},
   "outputs": [],
   "source": [
    "# Get Categorical Columns for Multinomial Loss.\n",
    "X_cat_train = X_num_train.loc[:, 'TYPE']\n",
    "X_cat_test = X_num_test.loc[:, 'TYPE']\n",
    "X_cat_val = X_num_val.loc[:, 'TYPE']\n",
    "\n",
    "# Drop TYPE from Numerical table.\n",
    "X_num_train = X_num_train.drop('TYPE', axis=1)\n",
    "X_num_test = X_num_test.drop('TYPE', axis=1)\n",
    "X_num_val = X_num_val.drop('TYPE', axis=1)"
   ]
  },
  {
   "cell_type": "code",
   "execution_count": null,
   "metadata": {},
   "outputs": [],
   "source": [
    "X_num_val.shape"
   ]
  },
  {
   "cell_type": "code",
   "execution_count": null,
   "metadata": {},
   "outputs": [],
   "source": [
    "# Coverting Dataframes to .npy for better storage.\n",
    "X_num_train = X_num_train.to_numpy()\n",
    "X_num_test = X_num_test.to_numpy()\n",
    "X_num_val = X_num_val.to_numpy()\n",
    "\n",
    "X_cat_train = X_cat_train.to_numpy()\n",
    "X_cat_test = X_cat_test.to_numpy()\n",
    "X_cat_val = X_cat_val.to_numpy()\n",
    "\n",
    "y_train = y_train.to_numpy()\n",
    "y_test = y_test.to_numpy()\n",
    "y_val = y_val.to_numpy()"
   ]
  },
  {
   "cell_type": "code",
   "execution_count": null,
   "metadata": {},
   "outputs": [],
   "source": [
    "X_cat_train[:5]"
   ]
  },
  {
   "cell_type": "code",
   "execution_count": null,
   "metadata": {},
   "outputs": [],
   "source": [
    "# Reshape Categorical Arrays. Single Column or 1D Array not accepted by model\n",
    "X_cat_train = X_cat_train.reshape(-1,1)\n",
    "X_cat_test = X_cat_test.reshape(-1,1)\n",
    "X_cat_val = X_cat_val.reshape(-1,1)"
   ]
  },
  {
   "attachments": {},
   "cell_type": "markdown",
   "metadata": {},
   "source": [
    "#### Saving X and y for train, test and val."
   ]
  },
  {
   "cell_type": "code",
   "execution_count": null,
   "metadata": {},
   "outputs": [],
   "source": [
    "with open('tab-ddpm/tab-ddpm-main/data/options/X_num_train.npy', 'wb') as f:\n",
    "    np.save(f, X_num_train)\n",
    "with open('tab-ddpm/tab-ddpm-main/data/options/X_num_test.npy', 'wb') as f:\n",
    "    np.save(f, X_num_test)\n",
    "with open('tab-ddpm/tab-ddpm-main/data/options/X_num_val.npy', 'wb') as f:\n",
    "    np.save(f, X_num_val)\n",
    "\n",
    "with open('tab-ddpm/tab-ddpm-main/data/options/X_cat_train.npy', 'wb') as f:\n",
    "    np.save(f, X_cat_train)\n",
    "with open('tab-ddpm/tab-ddpm-main/data/options/X_cat_test.npy', 'wb') as f:\n",
    "    np.save(f, X_cat_test)\n",
    "with open('tab-ddpm/tab-ddpm-main/data/options/X_cat_val.npy', 'wb') as f:\n",
    "    np.save(f, X_cat_val)\n",
    "\n",
    "with open('tab-ddpm/tab-ddpm-main/data/options/y_train.npy', 'wb') as f:\n",
    "    np.save(f, y_train)\n",
    "with open('tab-ddpm/tab-ddpm-main/data/options/y_test.npy', 'wb') as f:\n",
    "    np.save(f, y_test)\n",
    "with open('tab-ddpm/tab-ddpm-main/data/options/y_val.npy', 'wb') as f:\n",
    "    np.save(f, y_val)"
   ]
  },
  {
   "cell_type": "code",
   "execution_count": null,
   "metadata": {},
   "outputs": [],
   "source": [
    "#c_split_p_eod['VOLUME'].notna().value_counts()[True]"
   ]
  },
  {
   "cell_type": "code",
   "execution_count": null,
   "metadata": {},
   "outputs": [],
   "source": []
  },
  {
   "cell_type": "code",
   "execution_count": null,
   "metadata": {},
   "outputs": [],
   "source": []
  },
  {
   "cell_type": "code",
   "execution_count": null,
   "metadata": {},
   "outputs": [],
   "source": []
  },
  {
   "attachments": {},
   "cell_type": "markdown",
   "metadata": {},
   "source": [
    "##### Checking Generated data"
   ]
  },
  {
   "cell_type": "code",
   "execution_count": null,
   "metadata": {},
   "outputs": [],
   "source": [
    "synthe_X_num = np.load('tab-ddpm/tab-ddpm-main/exp/options/ddpm_cb_best/X_num_train.npy')"
   ]
  },
  {
   "cell_type": "code",
   "execution_count": null,
   "metadata": {},
   "outputs": [],
   "source": [
    "# Pick_allow disabled causing error. \n",
    "# Workaround to get X_cat\n",
    "\n",
    "# save np.load\n",
    "np_load_old = np.load\n",
    "\n",
    "# modify the default parameters of np.load\n",
    "np.load = lambda *a,**k: np_load_old(*a, allow_pickle=True, **k)\n",
    "\n",
    "# call load_data with allow_pickle implicitly set to true\n",
    "synthe_X_cat = np.load('tab-ddpm/tab-ddpm-main/exp/options/ddpm_cb_best/X_cat_train.npy')\n",
    "\n",
    "# restore np.load for future normal usage\n",
    "np.load = np_load_old"
   ]
  },
  {
   "cell_type": "code",
   "execution_count": null,
   "metadata": {},
   "outputs": [],
   "source": [
    "synthe_y = np.load('tab-ddpm/tab-ddpm-main/exp/options/ddpm_cb_best/y_train.npy')"
   ]
  },
  {
   "cell_type": "code",
   "execution_count": null,
   "metadata": {},
   "outputs": [],
   "source": [
    "synthe_X_num.shape\n",
    "#synthe_y.shape"
   ]
  },
  {
   "cell_type": "code",
   "execution_count": null,
   "metadata": {},
   "outputs": [],
   "source": [
    "synthe_X = np.append(synthe_X_num, synthe_X_cat, axis=1)"
   ]
  },
  {
   "cell_type": "code",
   "execution_count": null,
   "metadata": {},
   "outputs": [],
   "source": [
    "synthe_X[:2].shape"
   ]
  },
  {
   "cell_type": "code",
   "execution_count": null,
   "metadata": {},
   "outputs": [],
   "source": [
    "synthe_X_df = pd.DataFrame(synthe_X_num,\n",
    "    columns = ['[UNDERLYING_LAST]', '[STRIKE]', '[STRIKE_DISTANCE_PCT]', '[DTE]', '[C_DELTA]',\n",
    "       '[C_GAMMA]', '[C_VEGA]', '[C_THETA]', '[C_RHO]', '[C_VOLUME]', '[C_SIZE1]', '[C_SIZE2]',\n",
    "       '[C_BID]', '[C_ASK]'])"
   ]
  },
  {
   "cell_type": "code",
   "execution_count": null,
   "metadata": {},
   "outputs": [],
   "source": [
    "synthe_X_df[-10:-5]"
   ]
  },
  {
   "cell_type": "code",
   "execution_count": null,
   "metadata": {},
   "outputs": [],
   "source": [
    "synthe_y[:5]"
   ]
  },
  {
   "cell_type": "code",
   "execution_count": null,
   "metadata": {},
   "outputs": [],
   "source": []
  },
  {
   "cell_type": "code",
   "execution_count": null,
   "metadata": {},
   "outputs": [],
   "source": []
  },
  {
   "cell_type": "code",
   "execution_count": null,
   "metadata": {},
   "outputs": [],
   "source": []
  },
  {
   "cell_type": "code",
   "execution_count": null,
   "metadata": {},
   "outputs": [],
   "source": []
  },
  {
   "attachments": {},
   "cell_type": "markdown",
   "metadata": {},
   "source": [
    "#### Calculating and Evaluating Greeks"
   ]
  },
  {
   "cell_type": "code",
   "execution_count": null,
   "metadata": {},
   "outputs": [],
   "source": [
    "month_eod_df.columns"
   ]
  },
  {
   "cell_type": "code",
   "execution_count": null,
   "metadata": {},
   "outputs": [],
   "source": [
    "month_eod_df[441:442]"
   ]
  },
  {
   "cell_type": "code",
   "execution_count": null,
   "metadata": {},
   "outputs": [],
   "source": [
    "month_eod_df[[' [EXPIRE_DATE]', ' [STRIKE]', ' [UNDERLYING_LAST]', ' [DTE]']][month_eod_df[' [EXPIRE_DATE]'] == ' 2022-09-07']"
   ]
  },
  {
   "cell_type": "code",
   "execution_count": null,
   "metadata": {},
   "outputs": [],
   "source": [
    "sp7_from_aug = month_eod_df.loc[(month_eod_df[' [EXPIRE_DATE]'] == ' 2022-09-07') & (month_eod_df[' [STRIKE]'] == 400)]"
   ]
  },
  {
   "cell_type": "code",
   "execution_count": null,
   "metadata": {},
   "outputs": [],
   "source": [
    "sp7_from_sp"
   ]
  },
  {
   "attachments": {},
   "cell_type": "markdown",
   "metadata": {},
   "source": [
    "(month_eod_df[' [DTE]'] == 6.0)"
   ]
  },
  {
   "cell_type": "code",
   "execution_count": null,
   "metadata": {},
   "outputs": [],
   "source": [
    "sp7_from_aug"
   ]
  },
  {
   "cell_type": "code",
   "execution_count": null,
   "metadata": {},
   "outputs": [],
   "source": [
    "month_eod_df[[' [EXPIRE_DATE]', ' [DTE]']][23:24]"
   ]
  },
  {
   "cell_type": "code",
   "execution_count": null,
   "metadata": {},
   "outputs": [],
   "source": [
    "month_eod_df[' [UNDERLYING_LAST]'][23]"
   ]
  },
  {
   "cell_type": "code",
   "execution_count": null,
   "metadata": {},
   "outputs": [],
   "source": []
  },
  {
   "cell_type": "code",
   "execution_count": null,
   "metadata": {},
   "outputs": [],
   "source": [
    "path_to_file = 'data_options/spy_eod_2022/spy_eod_20220'\n",
    "sp7_400 = pd.DataFrame()\n",
    "\n",
    "for i in range(1,10):\n",
    "    file_path = path_to_file + str(i) + '.csv'\n",
    "    print(file_path)\n",
    "    month_eod_df = pd.read_csv(file_path)\n",
    "    temp = month_eod_df.loc[(month_eod_df[' [EXPIRE_DATE]'] == ' 2022-09-07') & (month_eod_df[' [STRIKE]'] == 400)]\n",
    "    sp7_400 = pd.concat([sp7_400, temp], ignore_index = True)\n",
    "\n",
    "#month_eod_df = pd.read_csv('data_options/spy_eod_2022/spy_eod_202208.csv')"
   ]
  },
  {
   "cell_type": "code",
   "execution_count": null,
   "metadata": {},
   "outputs": [],
   "source": [
    "# DATA PREP for C_LAST, C_BID, C_ASK\n",
    "sp7_400[' [C_LAST]'].replace({' ':np.nan},inplace=True)\n",
    "sp7_400[' [C_BID]'].replace({' ':np.nan},inplace=True)\n",
    "sp7_400[' [C_ASK]'].replace({' ':np.nan},inplace=True)\n",
    "\n",
    "sp7_400 = sp7_400.fillna(0)\n",
    "\n",
    "sp7_400[' [C_LAST]'] = sp7_400[' [C_LAST]'].astype(np.float64)\n",
    "sp7_400[' [C_BID]'] = sp7_400[' [C_BID]'].astype(np.float64)\n",
    "sp7_400[' [C_ASK]'] = sp7_400[' [C_ASK]'].astype(np.float64)"
   ]
  },
  {
   "cell_type": "code",
   "execution_count": null,
   "metadata": {},
   "outputs": [],
   "source": [
    "sp7_400[[' [QUOTE_DATE]', ' [UNDERLYING_LAST]', ' [DTE]', ' [C_DELTA]', ' [C_LAST]', ' [C_BID]', ' [C_ASK]', ' [STRIKE_DISTANCE]', ' [STRIKE]']]"
   ]
  },
  {
   "cell_type": "code",
   "execution_count": null,
   "metadata": {},
   "outputs": [],
   "source": [
    "# Filling C_LAST == 0 into C_BID C_ASK average\n",
    "sp7_400[' [C_LAST]'] = sp7_400[' [C_LAST]'].where(sp7_400[' [C_LAST]'] != 0, (sp7_400[' [C_BID]']+sp7_400[' [C_ASK]'])/2, axis=0)"
   ]
  },
  {
   "cell_type": "code",
   "execution_count": null,
   "metadata": {},
   "outputs": [],
   "source": [
    "sp7_400[' [C_LAST]']"
   ]
  },
  {
   "cell_type": "code",
   "execution_count": null,
   "metadata": {},
   "outputs": [],
   "source": [
    "sp7_400.columns"
   ]
  },
  {
   "cell_type": "code",
   "execution_count": null,
   "metadata": {},
   "outputs": [],
   "source": [
    "sp7_400[[' [QUOTE_DATE]', ' [UNDERLYING_LAST]', ' [DTE]', ' [C_DELTA]', ' [C_LAST]', ' [C_BID]', ' [C_ASK]', ' [STRIKE_DISTANCE]', ' [STRIKE]']]"
   ]
  },
  {
   "cell_type": "code",
   "execution_count": null,
   "metadata": {},
   "outputs": [],
   "source": [
    "sp7_400.shape"
   ]
  },
  {
   "cell_type": "code",
   "execution_count": null,
   "metadata": {},
   "outputs": [],
   "source": [
    "sp7_400.iloc[2,]"
   ]
  },
  {
   "attachments": {},
   "cell_type": "markdown",
   "metadata": {},
   "source": [
    "##### Transform C_LAST"
   ]
  },
  {
   "cell_type": "code",
   "execution_count": null,
   "metadata": {},
   "outputs": [],
   "source": [
    "#calc_delta = [0]\n",
    "cum_underlast_diff = [0]\n",
    "cum_clast_diff = [0]\n",
    "last_underlast = 0\n",
    "last_clast = 0\n",
    "\n",
    "\n",
    "for i, row in sp7_400.iterrows():\n",
    "    if i == 0:\n",
    "        last_underlast = row[' [UNDERLYING_LAST]']\n",
    "        last_clast = row[' [C_LAST]']\n",
    "        #print('Yoooooooooooooo', last_clast, row[' [C_LAST]'])\n",
    "        continue\n",
    "    \n",
    "    res1 = abs(row[' [UNDERLYING_LAST]'] - last_underlast) + cum_underlast_diff[-1]\n",
    "    last_underlast = row[' [UNDERLYING_LAST]']\n",
    "    cum_underlast_diff.append(res1)\n",
    "\n",
    "    #print('here', last_clast)\n",
    "    res2 = abs(row[' [C_LAST]'] - last_clast) + cum_clast_diff[-1]\n",
    "    #print('Here', res2, last_clast, row[' [C_LAST]'], cum_clast_diff[-1])\n",
    "    #print(res2)\n",
    "    last_clast = row[' [C_LAST]']\n",
    "    cum_clast_diff.append(res2)\n",
    "\n",
    "\n",
    "#print(cum_underlast_diff[-1])\n",
    "    "
   ]
  },
  {
   "cell_type": "code",
   "execution_count": null,
   "metadata": {},
   "outputs": [],
   "source": [
    "#cum_underlast_diff\n",
    "#sp7_400.shape\n",
    "#sp7_400[' CUM_CLAST_DIFF'] = cum_clast_diff\n",
    "#sp7_400[' CUM_UNDERLAST_DIFF'] = cum_underlast_diff\n",
    "\n",
    "sp7_400[[' [QUOTE_DATE]', ' [UNDERLYING_LAST]', ' [DTE]', ' [C_DELTA]', ' [C_LAST]', ' [C_BID]', ' [C_ASK]', ' [STRIKE_DISTANCE]', ' [STRIKE]', ' CUM_UNDERLAST_DIFF', ' CUM_CLAST_DIFF', ' [C_IV]']]\n"
   ]
  },
  {
   "cell_type": "code",
   "execution_count": null,
   "metadata": {},
   "outputs": [],
   "source": []
  },
  {
   "cell_type": "code",
   "execution_count": null,
   "metadata": {},
   "outputs": [],
   "source": []
  },
  {
   "cell_type": "code",
   "execution_count": null,
   "metadata": {},
   "outputs": [],
   "source": []
  },
  {
   "cell_type": "code",
   "execution_count": null,
   "metadata": {},
   "outputs": [],
   "source": []
  },
  {
   "attachments": {},
   "cell_type": "markdown",
   "metadata": {},
   "source": [
    "#### Converting .txt to .csv"
   ]
  },
  {
   "attachments": {},
   "cell_type": "markdown",
   "metadata": {},
   "source": [
    "path_to_file = 'data_options/spx_eod_2022/spx_eod_202212.txt'\n",
    "df_txt = pd.read_table(path_to_file, sep=', ')\n",
    "df_txt.to_csv('data_options/spx_eod_2022/spx_eod_202212.csv')"
   ]
  },
  {
   "cell_type": "code",
   "execution_count": null,
   "metadata": {},
   "outputs": [],
   "source": [
    "path_to_file_prefix = 'data_options/spx_eod_2022/spx_eod_2022'\n",
    "for i in range(1,10):\n",
    "    if i < 10:\n",
    "        path_to_file = path_to_file_prefix + '0' + str(i) + '.txt'\n",
    "    else:\n",
    "        path_to_file = path_to_file_prefix + str(i) + '.txt'\n",
    "    df_txt = pd.read_table(path_to_file, sep=', ')\n",
    "    df_txt.to_csv(path_to_file_prefix + '0' + str(i) + '.csv')\n",
    "\n"
   ]
  },
  {
   "cell_type": "code",
   "execution_count": null,
   "metadata": {},
   "outputs": [],
   "source": []
  },
  {
   "cell_type": "code",
   "execution_count": null,
   "metadata": {},
   "outputs": [],
   "source": []
  },
  {
   "attachments": {},
   "cell_type": "markdown",
   "metadata": {},
   "source": [
    "#### GET SYNTHETIC DATA"
   ]
  },
  {
   "cell_type": "code",
   "execution_count": null,
   "metadata": {},
   "outputs": [],
   "source": [
    "synthe_X_num = np.load('tab-ddpm/tab-ddpm-main/exp/options/ddpm_cb_best/X_num_train.npy')\n",
    "\n",
    "\n",
    "## UNCOMMENT IF DATATSET HAS CAT VALUES\n",
    "'''\n",
    "# Pick_allow disabled causing error. \n",
    "# Workaround to get X_cat\n",
    "\n",
    "# save np.load\n",
    "np_load_old = np.load\n",
    "\n",
    "# modify the default parameters of np.load\n",
    "np.load = lambda *a,**k: np_load_old(*a, allow_pickle=True, **k)\n",
    "\n",
    "# call load_data with allow_pickle implicitly set to true\n",
    "synthe_X_cat = np.load('tab-ddpm/tab-ddpm-main/exp/options/ddpm_cb_best/X_cat_train.npy')\n",
    "\n",
    "# restore np.load for future normal usage\n",
    "np.load = np_load_old\n",
    "\n",
    "synthe_X = np.append(synthe_X_num, synthe_X_cat, axis=1)\n",
    "'''\n",
    "\n",
    "# If Cat value in dataset, change synthe_X_num to synthe_X\n",
    "synthe_X_df = pd.DataFrame(synthe_X_num,\n",
    "    columns = ['[UNDERLYING_LAST]', '[STRIKE]', '[STRIKE_DISTANCE_PCT]', '[DTE]', '[C_DELTA]',\n",
    "       '[C_GAMMA]', '[C_VEGA]', '[C_THETA]', '[C_RHO]', '[C_VOLUME]', '[C_SIZE1]', '[C_SIZE2]',\n",
    "       '[C_BID]', '[C_ASK]'])\n",
    "\n",
    "synthe_y = np.load('tab-ddpm/tab-ddpm-main/exp/options/ddpm_cb_best/y_train.npy')"
   ]
  },
  {
   "attachments": {},
   "cell_type": "markdown",
   "metadata": {},
   "source": [
    "#### Check BSM model"
   ]
  },
  {
   "cell_type": "code",
   "execution_count": null,
   "metadata": {},
   "outputs": [],
   "source": [
    "check_df = pd.read_csv('data_options/spx_eod_2022/spx_eod_202201.csv')\n",
    "check_df1 = pd.read_csv('data_options/spx_eod_2022/spx_eod_202202.csv')"
   ]
  },
  {
   "cell_type": "code",
   "execution_count": null,
   "metadata": {},
   "outputs": [],
   "source": [
    "check_df.dropna(inplace=True)\n",
    "check_df1.dropna(inplace=True)"
   ]
  },
  {
   "cell_type": "code",
   "execution_count": null,
   "metadata": {},
   "outputs": [],
   "source": [
    "check_df = pd.concat([check_df, check_df1], ignore_index=True)"
   ]
  },
  {
   "cell_type": "code",
   "execution_count": null,
   "metadata": {},
   "outputs": [],
   "source": [
    "check_df[79778:79782]"
   ]
  },
  {
   "cell_type": "code",
   "execution_count": null,
   "metadata": {},
   "outputs": [],
   "source": [
    "check_df[['[C_DELTA]', '[C_GAMMA]', '[C_VEGA]',\n",
    "       '[C_THETA]', '[C_RHO]']].notna().value_counts()\n",
    "#pd.isna(check_df['[C_VOLUME]'])\n",
    "#\n",
    "#check_df.columns"
   ]
  },
  {
   "cell_type": "code",
   "execution_count": null,
   "metadata": {},
   "outputs": [],
   "source": [
    "check_df[['[C_IV]', '[C_VOLUME]', '[C_LAST]', '[C_SIZE]','[C_BID]', '[C_ASK]']].notna().value_counts()"
   ]
  },
  {
   "cell_type": "code",
   "execution_count": null,
   "metadata": {},
   "outputs": [],
   "source": [
    "check_df = check_df.filter(items=['[QUOTE_DATE]', '[QUOTE_UNIXTIME]', '[EXPIRE_DATE]', '[EXPIRE_UNIX]', '[UNDERLYING_LAST]', '[STRIKE]', '[STRIKE_DISTANCE]', '[STRIKE_DISTANCE_PCT]', '[EXPIRE_UNIX]', '[DTE]', '[C_DELTA]', '[C_GAMMA]', '[C_VEGA]', '[C_THETA]', '[C_RHO]', '[C_IV]', '[C_VOLUME]', '[C_LAST]', '[C_SIZE]', '[C_BID]', '[C_ASK]'])\n",
    "check_df.dtypes"
   ]
  },
  {
   "cell_type": "code",
   "execution_count": null,
   "metadata": {},
   "outputs": [],
   "source": [
    "check_df[-10020:-10010]"
   ]
  },
  {
   "cell_type": "code",
   "execution_count": null,
   "metadata": {},
   "outputs": [],
   "source": [
    "check_df.shape"
   ]
  },
  {
   "cell_type": "code",
   "execution_count": null,
   "metadata": {},
   "outputs": [],
   "source": [
    "check_df['[DTE]'] = check_df['[DTE]'].round()\n",
    "check_df['[DTE]'] = check_df['[DTE]'].astype(np.int64)\n",
    "check_df['[STRIKE]'] = check_df['[STRIKE]'].astype(np.int64)\n",
    "check_df['[C_VOLUME]'] = check_df['[C_VOLUME]'].astype(np.int64)\n",
    "check_df.dtypes"
   ]
  },
  {
   "cell_type": "code",
   "execution_count": null,
   "metadata": {},
   "outputs": [],
   "source": [
    "check_df[['[C_ASK]']].notna().value_counts()"
   ]
  },
  {
   "cell_type": "code",
   "execution_count": null,
   "metadata": {},
   "outputs": [],
   "source": [
    "check_df.where((check_df['[STRIKE_DISTANCE]'] < (check_df['[UNDERLYING_LAST]']*0.2)), inplace=True)\n",
    "check_df.dropna(inplace=True)"
   ]
  },
  {
   "cell_type": "code",
   "execution_count": null,
   "metadata": {},
   "outputs": [],
   "source": [
    "check_df.dtypes"
   ]
  },
  {
   "cell_type": "code",
   "execution_count": null,
   "metadata": {},
   "outputs": [],
   "source": [
    "check_df[['[QUOTE_DATE]', '[QUOTE_UNIXTIME]', '[EXPIRE_DATE]', '[EXPIRE_UNIX]', '[UNDERLYING_LAST]', '[DTE]', '[C_DELTA]', '[C_LAST]', '[C_BID]', '[C_ASK]', '[STRIKE_DISTANCE]', '[STRIKE]', '[C_IV]', '[C_VOLUME]']][6150:6155]"
   ]
  },
  {
   "cell_type": "code",
   "execution_count": null,
   "metadata": {},
   "outputs": [],
   "source": [
    "check_df.columns"
   ]
  },
  {
   "cell_type": "code",
   "execution_count": null,
   "metadata": {},
   "outputs": [],
   "source": [
    "#check_df.loc[:,['[STRIKE]', '[STRIKE_DISTANCE]', '[EXPIRE_UNIX]', '[DTE]', '[C_VOLUME]']]\n",
    "#check_df.where((type(check_df['[C_VOLUME]']) == np.float64))\n",
    "check_df.loc[3200:3300, ['[STRIKE]', '[STRIKE_DISTANCE]', '[EXPIRE_UNIX]', '[DTE]', '[C_VOLUME]', '[C_LAST]', '[C_SIZE]', '[C_BID]', '[C_ASK]']]"
   ]
  },
  {
   "cell_type": "code",
   "execution_count": null,
   "metadata": {},
   "outputs": [],
   "source": [
    "check_df.shape"
   ]
  },
  {
   "cell_type": "code",
   "execution_count": null,
   "metadata": {},
   "outputs": [],
   "source": [
    "check_df['[DTE]'].replace({' ':np.nan},inplace=True)\n",
    "#check_df = check_df.fillna(0)\n",
    "#check_df['[DTE]'] = check_df['[DTE]'].astype(np.int64)"
   ]
  },
  {
   "cell_type": "code",
   "execution_count": null,
   "metadata": {},
   "outputs": [],
   "source": [
    "check_df[['[C_ASK]']].notna().value_counts()"
   ]
  },
  {
   "attachments": {},
   "cell_type": "markdown",
   "metadata": {},
   "source": [
    "calc_daily_var = check_df.loc[(check_df['[EXPIRE_DATE]'] == '2023-01-03') & (check_df['[STRIKE]'] == 3900)]\n",
    "calc_daily_var.where(calc_daily_var['[DTE]'] > 4, inplace=True)\n",
    "#calc_daily_var = calc_daily_var.iloc[::-1]\n"
   ]
  },
  {
   "cell_type": "code",
   "execution_count": null,
   "metadata": {},
   "outputs": [],
   "source": [
    "calls_df = check_df.filter(items=['[QUOTE_UNIXTIME]', '[UNDERLYING_LAST]', '[STRIKE]', '[STRIKE_DISTANCE]', '[STRIKE_DISTANCE_PCT]', '[EXPIRE_UNIX]', '[DTE]', '[C_DELTA]', '[C_GAMMA]', '[C_VEGA]', '[C_THETA]', '[C_RHO]', '[C_IV]', '[C_VOLUME]', '[C_LAST]', '[C_SIZE]', '[C_BID]', '[C_ASK]'])"
   ]
  },
  {
   "cell_type": "code",
   "execution_count": null,
   "metadata": {},
   "outputs": [],
   "source": [
    "calls_df.shape"
   ]
  },
  {
   "attachments": {},
   "cell_type": "markdown",
   "metadata": {},
   "source": []
  },
  {
   "attachments": {},
   "cell_type": "markdown",
   "metadata": {},
   "source": []
  },
  {
   "attachments": {},
   "cell_type": "markdown",
   "metadata": {},
   "source": []
  },
  {
   "attachments": {},
   "cell_type": "markdown",
   "metadata": {},
   "source": []
  },
  {
   "attachments": {},
   "cell_type": "markdown",
   "metadata": {},
   "source": []
  },
  {
   "cell_type": "code",
   "execution_count": null,
   "metadata": {},
   "outputs": [],
   "source": [
    "#calc_daily_var = calc_daily_var[:-1]\n",
    "#calc_daily_var['[MID_PRICE]'] = (calc_daily_var['[C_BID]'] + calc_daily_var['[C_ASK]'])/2\n",
    "#calc_daily_var.drop('[MID_PRICE]', axis=1)"
   ]
  },
  {
   "cell_type": "code",
   "execution_count": null,
   "metadata": {},
   "outputs": [],
   "source": [
    "calc_daily_var"
   ]
  },
  {
   "cell_type": "code",
   "execution_count": null,
   "metadata": {},
   "outputs": [],
   "source": [
    "cnt = 0\n",
    "previous_dte = -1\n",
    "week_flag = False\n",
    "for i, row in calc_daily_var.iloc[::-1].iterrows():\n",
    "\n",
    "    if week_flag == True:\n",
    "        print('Here', i)\n",
    "        calc_daily_var.drop(i, inplace=True)\n",
    "\n",
    "    if row['[QUOTE_DATE]'] == '2022-12-29':\n",
    "        previous_dte = row['[DTE]']\n",
    "        continue\n",
    "\n",
    "    if (row['[DTE]'] - previous_dte) == 1:\n",
    "        cnt += 1\n",
    "        previous_dte = row['[DTE]']\n",
    "    elif (row['[DTE]'] - previous_dte) > 1:\n",
    "        cnt = 0\n",
    "        previous_dte = row['[DTE]']\n",
    "\n",
    "    if cnt == 4:\n",
    "        week_flag = True"
   ]
  },
  {
   "cell_type": "code",
   "execution_count": null,
   "metadata": {},
   "outputs": [],
   "source": [
    "calc_daily_var = calc_daily_var[:-1]\n",
    "calc_daily_var[['[QUOTE_DATE]', '[EXPIRE_DATE]', '[UNDERLYING_LAST]', '[DTE]', '[C_DELTA]', '[C_LAST]', '[C_BID]', '[C_ASK]', '[STRIKE_DISTANCE]', '[STRIKE]', '[C_IV]']]"
   ]
  },
  {
   "cell_type": "code",
   "execution_count": null,
   "metadata": {},
   "outputs": [],
   "source": [
    "calc_daily_var['[MID_PRICE]'] = (calc_daily_var['[C_BID]'] + calc_daily_var['[C_ASK]'])/2\n",
    "calc_daily_var[['[QUOTE_DATE]', '[EXPIRE_DATE]', '[UNDERLYING_LAST]', '[DTE]', '[C_DELTA]', '[C_LAST]', '[C_BID]', '[C_ASK]', '[STRIKE_DISTANCE]', '[STRIKE]', '[C_IV]', '[MID_PRICE]']]"
   ]
  },
  {
   "cell_type": "code",
   "execution_count": null,
   "metadata": {},
   "outputs": [],
   "source": [
    "calc_daily_var"
   ]
  },
  {
   "cell_type": "code",
   "execution_count": null,
   "metadata": {},
   "outputs": [],
   "source": [
    "calc_daily_var['[MID_PRICE]'] = (calc_daily_var['[C_BID]'] + calc_daily_var['[C_ASK]'])/2\n",
    "\n",
    "previous_mid = -1\n",
    "percent_chge = []\n",
    "for i, row in calc_daily_var.iterrows():\n",
    "    if row['[QUOTE_DATE]'] == '2022-12-19':\n",
    "        previous_mid = row['[MID_PRICE]']\n",
    "        percent_chge.append(0)\n",
    "        continue\n",
    "    \n",
    "    today_chnge = ((row['[MID_PRICE]'] - previous_mid)*100)/previous_mid\n",
    "    previous_mid = row['[MID_PRICE]']\n",
    "    percent_chge.append(today_chnge)\n",
    "\n",
    "calc_daily_var['[PERCENT_CHANGE]'] = percent_chge\n",
    "calc_daily_var.drop('[MID_PRICE]', axis=1)\n"
   ]
  },
  {
   "cell_type": "code",
   "execution_count": null,
   "metadata": {},
   "outputs": [],
   "source": [
    "calc_daily_var[['[QUOTE_DATE]', '[EXPIRE_DATE]', '[UNDERLYING_LAST]', '[DTE]', '[C_DELTA]', '[C_LAST]', '[C_BID]', '[C_ASK]', '[STRIKE_DISTANCE]', '[STRIKE]', '[C_IV]', '[PERCENT_CHANGE]']]"
   ]
  },
  {
   "cell_type": "code",
   "execution_count": null,
   "metadata": {},
   "outputs": [],
   "source": [
    "(calc_daily_var['[PERCENT_CHANGE]'][1:].std()/100) * (252**(1/2))\n",
    "#calc_daily_var['[PERCENT_CHANGE]'].std()"
   ]
  },
  {
   "cell_type": "code",
   "execution_count": null,
   "metadata": {},
   "outputs": [],
   "source": []
  },
  {
   "attachments": {},
   "cell_type": "markdown",
   "metadata": {},
   "source": [
    "##### EXAMPLE from check_df"
   ]
  },
  {
   "cell_type": "code",
   "execution_count": null,
   "metadata": {},
   "outputs": [],
   "source": [
    "check_df[30010:30020]\n",
    "#check_df.shape"
   ]
  },
  {
   "cell_type": "code",
   "execution_count": null,
   "metadata": {},
   "outputs": [],
   "source": [
    "#check_df.columns\n",
    "#eg = check_df.loc[(check_df['[EXPIRE_DATE]'] == '2022-02-28') & (check_df['[STRIKE]'] == 3900) & (check_df['[QUOTE_DATE]'] == '2022-12-29')]\n",
    "\n",
    "eg = check_df.loc[check_df['[EXPIRE_DATE]'] == '2022-02-28']\n",
    "#check_df.loc[check_df['[EXPIRE_DATE]'] == '2022-02-28'][500:510]\n",
    "\n",
    "#_ = check_df.loc[(check_df['[EXPIRE_DATE]'] == '2022-02-28') & (check_df['[STRIKE]'] == 3900) & (check_df['[QUOTE_DATE]'] == '2022-12-30')]"
   ]
  },
  {
   "cell_type": "code",
   "execution_count": null,
   "metadata": {},
   "outputs": [],
   "source": [
    "eg[['[QUOTE_DATE]', '[EXPIRE_DATE]', '[UNDERLYING_LAST]', '[DTE]', '[C_DELTA]', '[C_LAST]', '[C_BID]', '[C_ASK]', '[STRIKE_DISTANCE]', '[STRIKE]', '[C_IV]']][500:501]"
   ]
  },
  {
   "cell_type": "code",
   "execution_count": null,
   "metadata": {},
   "outputs": [],
   "source": [
    "calc_daily_var[['[QUOTE_DATE]', '[EXPIRE_DATE]', '[UNDERLYING_LAST]', '[DTE]', '[C_DELTA]', '[C_LAST]', '[C_BID]', '[C_ASK]', '[STRIKE_DISTANCE]', '[STRIKE]', '[C_IV]']]"
   ]
  },
  {
   "cell_type": "code",
   "execution_count": null,
   "metadata": {},
   "outputs": [],
   "source": [
    "eg[['[QUOTE_DATE]', '[EXPIRE_DATE]', '[UNDERLYING_LAST]', '[DTE]', '[C_DELTA]', '[C_LAST]', '[C_BID]', '[C_ASK]', '[STRIKE_DISTANCE]', '[STRIKE]', '[C_IV]']][1501:1502]"
   ]
  },
  {
   "cell_type": "code",
   "execution_count": null,
   "metadata": {},
   "outputs": [],
   "source": [
    "eg['[STRIKE]'].iloc[1501]"
   ]
  },
  {
   "cell_type": "code",
   "execution_count": null,
   "metadata": {},
   "outputs": [],
   "source": [
    "from bjerksund_stensland import bjerksund_stensland_call as bsc\n",
    "from bjerksund_stensland import implied_volatility_call as ivc"
   ]
  },
  {
   "cell_type": "code",
   "execution_count": null,
   "metadata": {},
   "outputs": [],
   "source": [
    "bsc(eg['[UNDERLYING_LAST]'].iloc[1501], eg['[STRIKE]'].iloc[1501], eg['[DTE]'].iloc[1501]/365, risk_free_rate=0.0045, volatility=0.17604)\n",
    "## RISK FREE RATE 0.004-0.005 gets close to MID-PRICE of the option"
   ]
  },
  {
   "cell_type": "code",
   "execution_count": null,
   "metadata": {},
   "outputs": [],
   "source": [
    "ivc(eg['[UNDERLYING_LAST]'].iloc[2501], eg['[STRIKE]'].iloc[2501], eg['[DTE]'].iloc[2501]/365, risk_free_rate=0.0045, option_price=(eg['[C_BID]'].iloc[2501]+eg['[C_ASK]'].iloc[2501])/2)"
   ]
  },
  {
   "cell_type": "code",
   "execution_count": null,
   "metadata": {},
   "outputs": [],
   "source": []
  },
  {
   "cell_type": "code",
   "execution_count": null,
   "metadata": {},
   "outputs": [],
   "source": [
    "synthe_X_df['[DTE]'] = synthe_X_df['[DTE]'].round()\n",
    "synthe_X_df['[STRIKE]'] = synthe_X_df['[STRIKE]'].round()\n",
    "synthe_X_df[-10:-5]"
   ]
  },
  {
   "cell_type": "code",
   "execution_count": null,
   "metadata": {},
   "outputs": [],
   "source": [
    "synthe_X_df['[CALC_IV]'] = synthe_X_df.apply(lambda x: ivc(x['[UNDERLYING_LAST]'], x['[STRIKE]'], x['[DTE]']/365, 0.0045, (x['[C_BID]']+x['[C_ASK]'])/2), axis=1)"
   ]
  },
  {
   "cell_type": "code",
   "execution_count": null,
   "metadata": {},
   "outputs": [],
   "source": [
    "synthe_X_df[-10:-3]"
   ]
  },
  {
   "attachments": {},
   "cell_type": "markdown",
   "metadata": {},
   "source": [
    "sp7_400[' [C_LAST]'].replace({' ':np.nan},inplace=True)\n",
    "sp7_400[' [C_BID]'].replace({' ':np.nan},inplace=True)\n",
    "sp7_400[' [C_ASK]'].replace({' ':np.nan},inplace=True)\n",
    "\n",
    "sp7_400 = sp7_400.fillna(0)\n",
    "\n",
    "sp7_400[' [C_LAST]'] = sp7_400[' [C_LAST]'].astype(np.float64)\n",
    "sp7_400[' [C_BID]'] = sp7_400[' [C_BID]'].astype(np.float64)\n",
    "sp7_400[' [C_ASK]'] = sp7_400[' [C_ASK]'].astype(np.float64)"
   ]
  },
  {
   "attachments": {},
   "cell_type": "markdown",
   "metadata": {},
   "source": []
  },
  {
   "cell_type": "code",
   "execution_count": null,
   "metadata": {},
   "outputs": [],
   "source": []
  },
  {
   "cell_type": "code",
   "execution_count": null,
   "metadata": {},
   "outputs": [],
   "source": []
  },
  {
   "attachments": {},
   "cell_type": "markdown",
   "metadata": {},
   "source": [
    "# Data Prepare SPY Stock (2017-2019)"
   ]
  },
  {
   "cell_type": "code",
   "execution_count": 8,
   "metadata": {},
   "outputs": [],
   "source": [
    "import numpy as np\n",
    "import pandas as pd\n",
    "#from sklearn.model_selection import train_test_split\n",
    "from sklearn.preprocessing import StandardScaler\n",
    "from preprocess_TCN.gaussianize import *"
   ]
  },
  {
   "cell_type": "code",
   "execution_count": 9,
   "metadata": {},
   "outputs": [
    {
     "data": {
      "text/html": [
       "<div>\n",
       "<style scoped>\n",
       "    .dataframe tbody tr th:only-of-type {\n",
       "        vertical-align: middle;\n",
       "    }\n",
       "\n",
       "    .dataframe tbody tr th {\n",
       "        vertical-align: top;\n",
       "    }\n",
       "\n",
       "    .dataframe thead th {\n",
       "        text-align: right;\n",
       "    }\n",
       "</style>\n",
       "<table border=\"1\" class=\"dataframe\">\n",
       "  <thead>\n",
       "    <tr style=\"text-align: right;\">\n",
       "      <th></th>\n",
       "      <th>Date</th>\n",
       "      <th>Open</th>\n",
       "      <th>High</th>\n",
       "      <th>Low</th>\n",
       "      <th>Close</th>\n",
       "      <th>Adj Close</th>\n",
       "      <th>Volume</th>\n",
       "    </tr>\n",
       "  </thead>\n",
       "  <tbody>\n",
       "    <tr>\n",
       "      <th>0</th>\n",
       "      <td>2017-01-03</td>\n",
       "      <td>225.039993</td>\n",
       "      <td>225.830002</td>\n",
       "      <td>223.880005</td>\n",
       "      <td>225.240005</td>\n",
       "      <td>202.085266</td>\n",
       "      <td>91366500</td>\n",
       "    </tr>\n",
       "    <tr>\n",
       "      <th>1</th>\n",
       "      <td>2017-01-04</td>\n",
       "      <td>225.619995</td>\n",
       "      <td>226.750000</td>\n",
       "      <td>225.610001</td>\n",
       "      <td>226.580002</td>\n",
       "      <td>203.287506</td>\n",
       "      <td>78744400</td>\n",
       "    </tr>\n",
       "    <tr>\n",
       "      <th>2</th>\n",
       "      <td>2017-01-05</td>\n",
       "      <td>226.270004</td>\n",
       "      <td>226.580002</td>\n",
       "      <td>225.479996</td>\n",
       "      <td>226.399994</td>\n",
       "      <td>203.125992</td>\n",
       "      <td>78379000</td>\n",
       "    </tr>\n",
       "    <tr>\n",
       "      <th>3</th>\n",
       "      <td>2017-01-06</td>\n",
       "      <td>226.529999</td>\n",
       "      <td>227.750000</td>\n",
       "      <td>225.899994</td>\n",
       "      <td>227.210007</td>\n",
       "      <td>203.852722</td>\n",
       "      <td>71559900</td>\n",
       "    </tr>\n",
       "    <tr>\n",
       "      <th>4</th>\n",
       "      <td>2017-01-09</td>\n",
       "      <td>226.910004</td>\n",
       "      <td>227.070007</td>\n",
       "      <td>226.419998</td>\n",
       "      <td>226.460007</td>\n",
       "      <td>203.179855</td>\n",
       "      <td>46939700</td>\n",
       "    </tr>\n",
       "  </tbody>\n",
       "</table>\n",
       "</div>"
      ],
      "text/plain": [
       "         Date        Open        High         Low       Close   Adj Close  \\\n",
       "0  2017-01-03  225.039993  225.830002  223.880005  225.240005  202.085266   \n",
       "1  2017-01-04  225.619995  226.750000  225.610001  226.580002  203.287506   \n",
       "2  2017-01-05  226.270004  226.580002  225.479996  226.399994  203.125992   \n",
       "3  2017-01-06  226.529999  227.750000  225.899994  227.210007  203.852722   \n",
       "4  2017-01-09  226.910004  227.070007  226.419998  226.460007  203.179855   \n",
       "\n",
       "     Volume  \n",
       "0  91366500  \n",
       "1  78744400  \n",
       "2  78379000  \n",
       "3  71559900  \n",
       "4  46939700  "
      ]
     },
     "execution_count": 9,
     "metadata": {},
     "output_type": "execute_result"
    }
   ],
   "source": [
    "spy_data = pd.read_csv('./data_options/SPY.csv')\n",
    "spy_data.head()"
   ]
  },
  {
   "attachments": {},
   "cell_type": "markdown",
   "metadata": {},
   "source": [
    "### For 1 feature "
   ]
  },
  {
   "cell_type": "code",
   "execution_count": 10,
   "metadata": {},
   "outputs": [
    {
     "name": "stdout",
     "output_type": "stream",
     "text": [
      "(752, 1)\n",
      "752\n"
     ]
    }
   ],
   "source": [
    "df = spy_data['Adj Close']\n",
    "\n",
    "returns = df.shift(1)/df - 1\n",
    "log_returns = np.log(df/df.shift(1))[1:].to_numpy().reshape(-1, 1)\n",
    "standardScaler1 = StandardScaler()\n",
    "standardScaler2 = StandardScaler()\n",
    "gaussianize = Gaussianize()\n",
    "log_returns_preprocessed = standardScaler2.fit_transform(gaussianize.fit_transform(standardScaler1.fit_transform(log_returns)))\n",
    "data_size = log_returns.shape[0]\n",
    "print(log_returns_preprocessed.shape)\n",
    "print(data_size)"
   ]
  },
  {
   "cell_type": "code",
   "execution_count": 13,
   "metadata": {},
   "outputs": [
    {
     "name": "stdout",
     "output_type": "stream",
     "text": [
      "103 307 (127, 1) (127, 1)\n"
     ]
    }
   ],
   "source": [
    "# Save the Numpy arrays for training.\n",
    "import random\n",
    "random_ind, random_ind2 = random.randrange(0,log_returns_preprocessed.shape[0]-128), random.randrange(0,log_returns_preprocessed.shape[0]-128)\n",
    "y_test = log_returns_preprocessed[random_ind:random_ind+127]\n",
    "y_val = log_returns_preprocessed[random_ind2:random_ind2+127]\n",
    "print(random_ind, random_ind2, y_test.shape, y_val.shape)\n",
    "\n",
    "with open('tab-ddpm/tab-ddpm-main/data/stock/y_train.npy', 'wb') as f:\n",
    "    np.save(f, log_returns_preprocessed)\n",
    "with open('tab-ddpm/tab-ddpm-main/data/stock/X/X_num_train.npy', 'wb') as f:\n",
    "    np.save(f, log_returns_preprocessed)\n",
    "with open('tab-ddpm/tab-ddpm-main/data/stock/y_test.npy', 'wb') as f:\n",
    "    np.save(f, y_test)\n",
    "with open('tab-ddpm/tab-ddpm-main/data/stock/y_val.npy', 'wb') as f:\n",
    "    np.save(f, y_val)\n"
   ]
  },
  {
   "cell_type": "code",
   "execution_count": null,
   "metadata": {},
   "outputs": [],
   "source": []
  },
  {
   "attachments": {},
   "cell_type": "markdown",
   "metadata": {},
   "source": [
    "### For n features"
   ]
  },
  {
   "cell_type": "code",
   "execution_count": 10,
   "metadata": {},
   "outputs": [
    {
     "data": {
      "text/plain": [
       "(753, 5)"
      ]
     },
     "execution_count": 10,
     "metadata": {},
     "output_type": "execute_result"
    }
   ],
   "source": [
    "spy_data = spy_data[['Open', 'High', 'Low', 'Adj Close', 'Volume']]\n",
    "log_returns = np.log(spy_data['Adj Close']/spy_data['Adj Close'].shift(1))[1:].to_numpy().reshape(-1, 1)\n",
    "spy_data.shape"
   ]
  },
  {
   "cell_type": "code",
   "execution_count": 11,
   "metadata": {},
   "outputs": [
    {
     "data": {
      "text/plain": [
       "(752, 6)"
      ]
     },
     "execution_count": 11,
     "metadata": {},
     "output_type": "execute_result"
    }
   ],
   "source": [
    "spy_data = spy_data[1:]\n",
    "spy_data['log_returns'] = log_returns\n",
    "spy_data.shape"
   ]
  },
  {
   "cell_type": "code",
   "execution_count": 12,
   "metadata": {},
   "outputs": [
    {
     "name": "stdout",
     "output_type": "stream",
     "text": [
      "31 30 (127, 6) (127, 6)\n"
     ]
    }
   ],
   "source": [
    "# Save the Numpy arrays for training.\n",
    "import random\n",
    "random_ind, random_ind2 = random.randrange(0,spy_data.shape[0]-128), random.randrange(0,spy_data.shape[0]-128)\n",
    "X_num_val = spy_data[random_ind:random_ind+127]\n",
    "X_num_test = spy_data[random_ind2:random_ind2+127]\n",
    "print(random_ind, random_ind2, X_num_val.shape, X_num_test.shape)"
   ]
  },
  {
   "cell_type": "code",
   "execution_count": 13,
   "metadata": {},
   "outputs": [
    {
     "name": "stdout",
     "output_type": "stream",
     "text": [
      "(752,)\n",
      "(127,)\n",
      "(127,)\n"
     ]
    }
   ],
   "source": [
    "y_train = spy_data.iloc[:,-1]\n",
    "y_val = X_num_val.iloc[:,-1]\n",
    "y_test = X_num_val.iloc[:,-1]\n",
    "\n",
    "print(y_train.shape)\n",
    "print(y_val.shape)\n",
    "print(y_test.shape)"
   ]
  },
  {
   "cell_type": "code",
   "execution_count": 14,
   "metadata": {},
   "outputs": [
    {
     "name": "stdout",
     "output_type": "stream",
     "text": [
      "(752, 5)\n",
      "(127, 5)\n",
      "(127, 5)\n"
     ]
    }
   ],
   "source": [
    "X_num_train = spy_data.iloc[:,:-1]\n",
    "X_num_val = X_num_val.iloc[:,:-1]\n",
    "X_num_test = X_num_test.iloc[:,:-1]\n",
    "\n",
    "print(X_num_train.shape)\n",
    "print(X_num_val.shape)\n",
    "print(X_num_test.shape)"
   ]
  },
  {
   "cell_type": "code",
   "execution_count": 20,
   "metadata": {},
   "outputs": [
    {
     "data": {
      "text/plain": [
       "32    0.001575\n",
       "33    0.005937\n",
       "34   -0.000888\n",
       "35    0.000677\n",
       "36    0.001268\n",
       "Name: log_returns, dtype: float64"
      ]
     },
     "execution_count": 20,
     "metadata": {},
     "output_type": "execute_result"
    }
   ],
   "source": [
    "y_test.iloc[:5]"
   ]
  },
  {
   "cell_type": "code",
   "execution_count": 15,
   "metadata": {},
   "outputs": [],
   "source": [
    "# Save the Numpy arrays for training.\n",
    "with open('tab-ddpm/tab-ddpm-main/data/stock-nfeatures/X_num_train.npy', 'wb') as f:\n",
    "    np.save(f, X_num_train)\n",
    "with open('tab-ddpm/tab-ddpm-main/data/stock-nfeatures/X_num_test.npy', 'wb') as f:\n",
    "    np.save(f, X_num_test)\n",
    "with open('tab-ddpm/tab-ddpm-main/data/stock-nfeatures/X_num_val.npy', 'wb') as f:\n",
    "    np.save(f, X_num_val)\n",
    "\n",
    "with open('tab-ddpm/tab-ddpm-main/data/stock-nfeatures/y_train.npy', 'wb') as f:\n",
    "    np.save(f, y_train)\n",
    "with open('tab-ddpm/tab-ddpm-main/data/stock-nfeatures/y_test.npy', 'wb') as f:\n",
    "    np.save(f, y_test)\n",
    "with open('tab-ddpm/tab-ddpm-main/data/stock-nfeatures/y_val.npy', 'wb') as f:\n",
    "    np.save(f, y_val)"
   ]
  },
  {
   "cell_type": "code",
   "execution_count": null,
   "metadata": {},
   "outputs": [],
   "source": []
  },
  {
   "cell_type": "code",
   "execution_count": null,
   "metadata": {},
   "outputs": [],
   "source": []
  },
  {
   "attachments": {},
   "cell_type": "markdown",
   "metadata": {},
   "source": [
    "### Eval for Stock with 1 feature"
   ]
  },
  {
   "cell_type": "code",
   "execution_count": 30,
   "metadata": {},
   "outputs": [],
   "source": [
    "#### GET SYNTHETIC DATA\n",
    "synthe_X_num = np.load('tab-ddpm/tab-ddpm-main/exp/stock/ddpm_mlp_best/X_num_train.npy')\n",
    "\n",
    "synthe_y = np.load('tab-ddpm/tab-ddpm-main/exp/stock/ddpm_mlp_best/y_train.npy')"
   ]
  },
  {
   "cell_type": "code",
   "execution_count": 31,
   "metadata": {},
   "outputs": [
    {
     "data": {
      "text/plain": [
       "array([], shape=(127, 0), dtype=float64)"
      ]
     },
     "execution_count": 31,
     "metadata": {},
     "output_type": "execute_result"
    }
   ],
   "source": [
    "synthe_X_num"
   ]
  },
  {
   "cell_type": "code",
   "execution_count": 37,
   "metadata": {},
   "outputs": [
    {
     "data": {
      "text/plain": [
       "array([-1.55011986, -0.19795486,  1.08052938,  1.51370188, -2.48253531])"
      ]
     },
     "execution_count": 37,
     "metadata": {},
     "output_type": "execute_result"
    }
   ],
   "source": [
    "synthe_y[:5]"
   ]
  },
  {
   "cell_type": "code",
   "execution_count": 34,
   "metadata": {},
   "outputs": [
    {
     "data": {
      "text/plain": [
       "(752, 1)"
      ]
     },
     "execution_count": 34,
     "metadata": {},
     "output_type": "execute_result"
    }
   ],
   "source": [
    "log_returns_preprocessed.shape"
   ]
  },
  {
   "cell_type": "code",
   "execution_count": 39,
   "metadata": {},
   "outputs": [
    {
     "data": {
      "text/plain": [
       "array([[ 2.42351292],\n",
       "       [-2.05496214],\n",
       "       [-0.69604107],\n",
       "       [ 1.65383531],\n",
       "       [-2.28071775]])"
      ]
     },
     "execution_count": 39,
     "metadata": {},
     "output_type": "execute_result"
    }
   ],
   "source": [
    "y_val[:5]"
   ]
  },
  {
   "cell_type": "code",
   "execution_count": 41,
   "metadata": {},
   "outputs": [
    {
     "name": "stdout",
     "output_type": "stream",
     "text": [
      "checking y: f(127, 1)\n"
     ]
    }
   ],
   "source": [
    "# Trasform y_val\n",
    "y_val_transformed = (y_val - y_val.mean(axis=0))/y_val.std(axis=0)\n",
    "y_val_transformed = standardScaler2.inverse_transform(y_val_transformed)\n",
    "y_val_transformed = np.array([gaussianize.inverse_transform(np.expand_dims(x, 1)) for x in y_val_transformed]).squeeze()\n",
    "y_val_transformed = standardScaler1.inverse_transform(y_val_transformed.reshape(-1,1))\n",
    "print(f'checking y: f{y_val_transformed.shape}')"
   ]
  },
  {
   "cell_type": "code",
   "execution_count": 42,
   "metadata": {},
   "outputs": [
    {
     "data": {
      "text/plain": [
       "array([[ 0.02735297],\n",
       "       [-0.01902699],\n",
       "       [-0.00335118],\n",
       "       [ 0.01262557],\n",
       "       [-0.02434983]])"
      ]
     },
     "execution_count": 42,
     "metadata": {},
     "output_type": "execute_result"
    }
   ],
   "source": [
    "y_val_transformed[:5]"
   ]
  },
  {
   "cell_type": "code",
   "execution_count": 45,
   "metadata": {},
   "outputs": [
    {
     "name": "stdout",
     "output_type": "stream",
     "text": [
      "checking y: f(127, 1)\n"
     ]
    }
   ],
   "source": [
    "# Trasform synthe_y\n",
    "synthe_y_transformed = (synthe_y - synthe_y.mean(axis=0))/synthe_y.std(axis=0)\n",
    "synthe_y_transformed = standardScaler2.inverse_transform(synthe_y_transformed.reshape(-1,1))\n",
    "synthe_y_transformed = np.array([gaussianize.inverse_transform(np.expand_dims(x, 1)) for x in synthe_y_transformed]).squeeze()\n",
    "synthe_y_transformed = standardScaler1.inverse_transform(synthe_y_transformed.reshape(-1,1))\n",
    "print(f'checking y: f{synthe_y_transformed.shape}')"
   ]
  },
  {
   "cell_type": "code",
   "execution_count": 58,
   "metadata": {},
   "outputs": [
    {
     "data": {
      "text/plain": [
       "(127, 1)"
      ]
     },
     "execution_count": 58,
     "metadata": {},
     "output_type": "execute_result"
    }
   ],
   "source": [
    "synthe_y_transformed.shape\n",
    "y_val_transformed.shape\n",
    "#synthe_y.shape\n",
    "#y_val.shape"
   ]
  },
  {
   "cell_type": "code",
   "execution_count": 47,
   "metadata": {},
   "outputs": [],
   "source": [
    "from scipy.stats import wasserstein_distance"
   ]
  },
  {
   "cell_type": "code",
   "execution_count": 50,
   "metadata": {},
   "outputs": [
    {
     "data": {
      "text/plain": [
       "0.0007435944112121214"
      ]
     },
     "execution_count": 50,
     "metadata": {},
     "output_type": "execute_result"
    }
   ],
   "source": [
    "wasserstein_distance(y_val_transformed.reshape(-1), synthe_y_transformed.reshape(-1))"
   ]
  },
  {
   "cell_type": "code",
   "execution_count": 53,
   "metadata": {},
   "outputs": [
    {
     "data": {
      "text/plain": [
       "0.10449159437589034"
      ]
     },
     "execution_count": 53,
     "metadata": {},
     "output_type": "execute_result"
    }
   ],
   "source": [
    "wasserstein_distance(y_val.reshape(-1), synthe_y)"
   ]
  },
  {
   "cell_type": "code",
   "execution_count": 59,
   "metadata": {},
   "outputs": [
    {
     "name": "stdout",
     "output_type": "stream",
     "text": [
      "For window 1, EMD_fake = 0.0007435944112121214\n",
      "------x-------x----------\n",
      "For window 5, EMD_fake = 0.003358784637320827\n",
      "------x-------x----------\n",
      "For window 20, EMD_fake = 0.020055149423110125\n",
      "------x-------x----------\n",
      "For window 100, EMD_fake = 0.026364013672021694\n",
      "------x-------x----------\n"
     ]
    }
   ],
   "source": [
    "from preprocess.acf import *\n",
    "\n",
    "windows = [1, 5, 20, 100]\n",
    "\n",
    "#print(best_gen_path.shape)\n",
    "\n",
    "for i in range(len(windows)):\n",
    "    real_dist = rolling_window(y_val_transformed.reshape(-1), windows[i], sparse = not (windows[i] == 1)).sum(axis=0).ravel()\n",
    "    fake_dist = rolling_window(synthe_y_transformed.reshape(-1), windows[i], sparse = not (windows[i] == 1)).sum(axis=0).ravel()\n",
    "    #other_real_dist = rolling_window(test_against_itself.reshape(-1), windows[i], sparse = not (windows[i] == 1)).mean(axis=0).ravel()\n",
    "\n",
    "\n",
    "    print(f'For window {windows[i]}, EMD_fake = {wasserstein_distance(real_dist, fake_dist)}')\n",
    "    #print(f'For window {windows[i]}, EMD_otherReal = {wasserstein_distance(real_dist, other_real_dist)}')\n",
    "    #print(fake_dist[:10], real_dist[:10])\n",
    "    #print('YOOOO', fake_dist.shape, real_dist.shape)\n",
    "\n",
    "    #print(np.array([fake_dist, real_dist], dtype='object')[0][185:195])\n",
    "    #print(fake_dist[185:195], y[0][185:], y[1][:5], )\n",
    "    print('------x-------x----------')"
   ]
  },
  {
   "cell_type": "code",
   "execution_count": null,
   "metadata": {},
   "outputs": [],
   "source": []
  }
 ],
 "metadata": {
  "kernelspec": {
   "display_name": "Python 3",
   "language": "python",
   "name": "python3"
  },
  "language_info": {
   "codemirror_mode": {
    "name": "ipython",
    "version": 3
   },
   "file_extension": ".py",
   "mimetype": "text/x-python",
   "name": "python",
   "nbconvert_exporter": "python",
   "pygments_lexer": "ipython3",
   "version": "3.9.7"
  },
  "orig_nbformat": 4,
  "vscode": {
   "interpreter": {
    "hash": "50964507b18948a0f7b6f6f132cc3b62d75a24b4bbf15283b0e5236c32509199"
   }
  }
 },
 "nbformat": 4,
 "nbformat_minor": 2
}
